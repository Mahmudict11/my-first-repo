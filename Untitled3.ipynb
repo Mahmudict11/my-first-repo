{
  "nbformat": 4,
  "nbformat_minor": 0,
  "metadata": {
    "colab": {
      "provenance": [],
      "mount_file_id": "1zcftz8x5HMPJzcW1XWM6Ryo9SaxymPkf",
      "authorship_tag": "ABX9TyOcxd0a6xD88RhZ4e5swIfD",
      "include_colab_link": true
    },
    "kernelspec": {
      "name": "python3",
      "display_name": "Python 3"
    },
    "language_info": {
      "name": "python"
    }
  },
  "cells": [
    {
      "cell_type": "markdown",
      "metadata": {
        "id": "view-in-github",
        "colab_type": "text"
      },
      "source": [
        "<a href=\"https://colab.research.google.com/github/Mahmudict11/my-first-repo/blob/main/Untitled3.ipynb\" target=\"_parent\"><img src=\"https://colab.research.google.com/assets/colab-badge.svg\" alt=\"Open In Colab\"/></a>"
      ]
    },
    {
      "cell_type": "code",
      "source": [
        "# Step 2: Import Pandas\n",
        "import pandas as pd\n",
        "\n",
        "# Step 3: Read CSV file\n",
        "# Replace 'file_name.csv' with the name of your CSV file\n",
        "# If the file is uploaded to the root directory, you can directly specify the file name\n",
        "# If it's uploaded in a folder, provide the path accordingly\n",
        "df = pd.read_csv('diabetes (1).csv')\n",
        "\n",
        "# Step 4: Display DataFrame\n",
        "print(df)\n",
        "# Or to display only the first few rows\n",
        "# print(df.head())\n"
      ],
      "metadata": {
        "colab": {
          "base_uri": "https://localhost:8080/"
        },
        "id": "CeOao3XDU5Pp",
        "outputId": "533dd4fc-0d85-4e1e-9d49-931f3863d2dc"
      },
      "execution_count": 4,
      "outputs": [
        {
          "output_type": "stream",
          "name": "stdout",
          "text": [
            "     Pregnancies  Glucose  BloodPressure  SkinThickness  Insulin   BMI  \\\n",
            "0              6      148             72             35        0  33.6   \n",
            "1              1       85             66             29        0  26.6   \n",
            "2              8      183             64              0        0  23.3   \n",
            "3              1       89             66             23       94  28.1   \n",
            "4              0      137             40             35      168  43.1   \n",
            "..           ...      ...            ...            ...      ...   ...   \n",
            "763           10      101             76             48      180  32.9   \n",
            "764            2      122             70             27        0  36.8   \n",
            "765            5      121             72             23      112  26.2   \n",
            "766            1      126             60              0        0  30.1   \n",
            "767            1       93             70             31        0  30.4   \n",
            "\n",
            "     DiabetesPedigreeFunction  Age  Outcome  \n",
            "0                       0.627   50        1  \n",
            "1                       0.351   31        0  \n",
            "2                       0.672   32        1  \n",
            "3                       0.167   21        0  \n",
            "4                       2.288   33        1  \n",
            "..                        ...  ...      ...  \n",
            "763                     0.171   63        0  \n",
            "764                     0.340   27        0  \n",
            "765                     0.245   30        0  \n",
            "766                     0.349   47        1  \n",
            "767                     0.315   23        0  \n",
            "\n",
            "[768 rows x 9 columns]\n"
          ]
        }
      ]
    },
    {
      "cell_type": "code",
      "source": [],
      "metadata": {
        "id": "WUhkulzqcfLw"
      },
      "execution_count": null,
      "outputs": []
    },
    {
      "cell_type": "markdown",
      "source": [
        "gh\n",
        "ui\n",
        "\n",
        "1.   List item\n",
        "\n",
        "*   List item\n",
        "\n",
        "*   List item\n",
        "\n",
        "1.   List item\n",
        "\n",
        "---\n",
        "\n",
        "\\::\n",
        "\n",
        "> [Indented block](`https://`)\n",
        "\n",
        "\n",
        "2.   List item\n",
        "\n",
        "\n",
        "*   List item\n",
        "\n",
        "\n",
        "*   List item\n",
        "\n",
        "\n",
        "2.   List item\n",
        "\n"
      ],
      "metadata": {
        "id": "25x1iS6Gcfcm"
      }
    },
    {
      "cell_type": "markdown",
      "source": [
        "$ ax^2+bx+c $"
      ],
      "metadata": {
        "id": "laMSAr-kcwgG"
      }
    }
  ]
}